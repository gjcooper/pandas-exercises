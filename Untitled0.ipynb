{
 "metadata": {
  "name": "",
  "signature": "sha256:423167882781d0a5a57e67bec66d7414f9605851dc2cefdbe4fdf68af9fac042"
 },
 "nbformat": 3,
 "nbformat_minor": 0,
 "worksheets": []
}